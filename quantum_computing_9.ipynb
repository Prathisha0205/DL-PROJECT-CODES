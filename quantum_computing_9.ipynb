{
  "nbformat": 4,
  "nbformat_minor": 0,
  "metadata": {
    "colab": {
      "provenance": [],
      "authorship_tag": "ABX9TyMugwC0ad6IFArR5lxMpM9f",
      "include_colab_link": true
    },
    "kernelspec": {
      "name": "python3",
      "display_name": "Python 3"
    },
    "language_info": {
      "name": "python"
    }
  },
  "cells": [
    {
      "cell_type": "markdown",
      "metadata": {
        "id": "view-in-github",
        "colab_type": "text"
      },
      "source": [
        "<a href=\"https://colab.research.google.com/github/Prathisha0205/DL-PROJECT-CODES/blob/main/quantum_computing_9.ipynb\" target=\"_parent\"><img src=\"https://colab.research.google.com/assets/colab-badge.svg\" alt=\"Open In Colab\"/></a>"
      ]
    },
    {
      "cell_type": "code",
      "source": [
        "import random\n",
        "import math\n",
        "from numpy import gcd\n",
        "\n",
        "def shors_algorithm(N):\n",
        "\n",
        "    # Step 1: Handle even numbers\n",
        "    if N % 2 == 0:\n",
        "        return 2, N // 2\n",
        "    print(f\"Factoring N = {N}\")\n",
        "\n",
        "    # Step 2: Try multiple attempts\n",
        "    for attempt in range(5):\n",
        "        a = random.randint(2, N - 2)\n",
        "        print(f\"\\nAttempt #{attempt + 1}: Trying a = {a}\")\n",
        "\n",
        "        # If gcd(a, N) is not 1, we found a factor\n",
        "        if gcd(a, N) != 1:\n",
        "            # Found a non-trivial factor\n",
        "            return gcd(a, N), N // gcd(a, N)\n",
        "\n",
        "        # Step 3: Find order r of a mod N\n",
        "        r = 1\n",
        "        while pow(a, r, N) != 1 and r < N:\n",
        "            r += 1\n",
        "        print(f\"Order r = {r}\")\n",
        "\n",
        "        # Check for invalid r\n",
        "        if r % 2 != 0 or pow(a, r // 2, N) == N - 1:\n",
        "            print(\"Invalid r, retrying...\")\n",
        "            continue  # Retry if order is invalid\n",
        "\n",
        "        # Step 4: Compute factors\n",
        "        factor1 = math.gcd(pow(a, r // 2) - 1, N)\n",
        "        factor2 = math.gcd(pow(a, r // 2) + 1, N)\n",
        "\n",
        "        if 1 < factor1 < N:\n",
        "            return factor1, N // factor1\n",
        "        if 1 < factor2 < N:\n",
        "            return factor2, N // factor2\n",
        "\n",
        "    return None, None\n",
        "\n",
        "# Step 5: Take input from user\n",
        "N = int(input(\"Enter a number to factor: \"))\n",
        "\n",
        "# Test the simplified Shor's algorithm\n",
        "f1, f2 = shors_algorithm(N)\n",
        "\n",
        "if f1 and f2:\n",
        "    print(f\"\\n✅ Success: Factors of {N} are {f1} × {f2}\")\n",
        "else:\n",
        "    print(f\"\\n❌ Failed to find non-trivial factors of {N}\")\n"
      ],
      "metadata": {
        "colab": {
          "base_uri": "https://localhost:8080/"
        },
        "id": "k-uVq_MpMN4i",
        "outputId": "854b2b10-7ba1-489c-ac48-576fe9609c32"
      },
      "execution_count": 2,
      "outputs": [
        {
          "output_type": "stream",
          "name": "stdout",
          "text": [
            "Enter a number to factor: 15\n",
            "Factoring N = 15\n",
            "\n",
            "Attempt #1: Trying a = 11\n",
            "Order r = 2\n",
            "\n",
            "✅ Success: Factors of 15 are 5 × 3\n"
          ]
        }
      ]
    },
    {
      "cell_type": "code",
      "source": [
        "import random\n",
        "\n",
        "# Function to generate a random bit (0 or 1)\n",
        "def random_bit():\n",
        "    return random.randint(0, 1)\n",
        "\n",
        "# Function to generate a random basis ('Z' for rectilinear, 'X' for diagonal)\n",
        "def random_basis():\n",
        "    if random.randint(0, 1) == 0:\n",
        "        return 'Z'  # Rectilinear\n",
        "    else:\n",
        "        return 'X'  # Diagonal\n",
        "\n",
        "# Function to generate random bits and corresponding bases for a given length\n",
        "def generate_sequence(length):\n",
        "    bits = []\n",
        "    bases = []\n",
        "    for i in range(length):\n",
        "        bits.append(random_bit())\n",
        "        bases.append(random_basis())\n",
        "    return bits, bases\n",
        "\n",
        "# Function to simulate the measurement of bits in different bases\n",
        "def measure_bits(sender_bits, sender_bases, receiver_bases):\n",
        "    receiver_bits = []\n",
        "    for i in range(len(sender_bits)):\n",
        "        if sender_bases[i] == receiver_bases[i]:\n",
        "            receiver_bits.append(sender_bits[i])  # Correct measurement\n",
        "        else:\n",
        "            receiver_bits.append(random_bit())  # Incorrect measurement due to different bases\n",
        "    return receiver_bits\n",
        "\n",
        "# Function to extract the shared key based on matching bases\n",
        "def extract_key(bits, bases1, bases2):\n",
        "    key = []\n",
        "    for i in range(len(bits)):\n",
        "        if bases1[i] == bases2[i]:  # Only add bits where the bases match\n",
        "            key.append(bits[i])\n",
        "    return key\n",
        "\n",
        "# BB84 Simulation Function\n",
        "def bb84_simulation(length):\n",
        "    # Alice generates a random sequence of bits and bases\n",
        "    alice_bits, alice_bases = generate_sequence(length)\n",
        "\n",
        "    # Bob chooses random bases\n",
        "    bob_bases = [random_basis() for _ in range(length)]\n",
        "\n",
        "    # Bob measures the bits based on his chosen bases\n",
        "    bob_bits = measure_bits(alice_bits, alice_bases, bob_bases)\n",
        "\n",
        "    # Alice and Bob extract the shared key based on matching bases\n",
        "    shared_key = extract_key(alice_bits, alice_bases, bob_bases)\n",
        "\n",
        "    # Print the results\n",
        "    print(\"Alice bits: \", alice_bits)\n",
        "    print(\"Alice bases:\", alice_bases)\n",
        "    print(\"Bob bases:  \", bob_bases)\n",
        "    print(\"Bob bits:   \", bob_bits)\n",
        "    print(\"Shared key: \", shared_key)\n",
        "\n",
        "# Run the simulation\n",
        "bb84_simulation(20)\n"
      ],
      "metadata": {
        "colab": {
          "base_uri": "https://localhost:8080/"
        },
        "id": "t0EkNbT-MzYO",
        "outputId": "b2786f1a-7154-4673-d1d0-61de6c504fa3"
      },
      "execution_count": 3,
      "outputs": [
        {
          "output_type": "stream",
          "name": "stdout",
          "text": [
            "Alice bits:  [1, 1, 0, 1, 1, 0, 0, 1, 0, 0, 1, 0, 0, 1, 0, 1, 0, 0, 1, 1]\n",
            "Alice bases: ['X', 'Z', 'X', 'Z', 'Z', 'X', 'X', 'X', 'X', 'X', 'Z', 'X', 'Z', 'Z', 'Z', 'X', 'X', 'X', 'X', 'X']\n",
            "Bob bases:   ['Z', 'Z', 'X', 'X', 'X', 'X', 'X', 'Z', 'Z', 'X', 'Z', 'Z', 'Z', 'X', 'X', 'Z', 'Z', 'Z', 'Z', 'X']\n",
            "Bob bits:    [1, 1, 0, 1, 1, 0, 0, 0, 1, 0, 1, 0, 0, 0, 1, 1, 1, 1, 0, 1]\n",
            "Shared key:  [1, 0, 0, 0, 0, 1, 0, 1]\n"
          ]
        }
      ]
    }
  ]
}