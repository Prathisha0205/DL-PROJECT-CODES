{
  "nbformat": 4,
  "nbformat_minor": 0,
  "metadata": {
    "colab": {
      "provenance": [],
      "authorship_tag": "ABX9TyNzv5/oWDmzfuKmuoi/ACao",
      "include_colab_link": true
    },
    "kernelspec": {
      "name": "python3",
      "display_name": "Python 3"
    },
    "language_info": {
      "name": "python"
    }
  },
  "cells": [
    {
      "cell_type": "markdown",
      "metadata": {
        "id": "view-in-github",
        "colab_type": "text"
      },
      "source": [
        "<a href=\"https://colab.research.google.com/github/Prathisha0205/DL-PROJECT-CODES/blob/main/quantum_computing_9.ipynb\" target=\"_parent\"><img src=\"https://colab.research.google.com/assets/colab-badge.svg\" alt=\"Open In Colab\"/></a>"
      ]
    },
    {
      "cell_type": "code",
      "source": [
        "import random\n",
        "import math\n",
        "from numpy import gcd\n",
        "\n",
        "def shors_algorithm(N):\n",
        "\n",
        "    # Step 1: Handle even numbers\n",
        "    if N % 2 == 0:\n",
        "        return 2, N // 2\n",
        "    print(f\"Factoring N = {N}\")\n",
        "\n",
        "    # Step 2: Try multiple attempts\n",
        "    for attempt in range(5):\n",
        "        a = random.randint(2, N - 2)\n",
        "        print(f\"\\nAttempt #{attempt + 1}: Trying a = {a}\")\n",
        "\n",
        "        # If gcd(a, N) is not 1, we found a factor\n",
        "        if gcd(a, N) != 1:\n",
        "            # Found a non-trivial factor\n",
        "            return gcd(a, N), N // gcd(a, N)\n",
        "\n",
        "        # Step 3: Find order r of a mod N\n",
        "        r = 1\n",
        "        while pow(a, r, N) != 1 and r < N:\n",
        "            r += 1\n",
        "        print(f\"Order r = {r}\")\n",
        "\n",
        "        # Check for invalid r\n",
        "        if r % 2 != 0 or pow(a, r // 2, N) == N - 1:\n",
        "            print(\"Invalid r, retrying...\")\n",
        "            continue  # Retry if order is invalid\n",
        "\n",
        "        # Step 4: Compute factors\n",
        "        factor1 = math.gcd(pow(a, r // 2) - 1, N)\n",
        "        factor2 = math.gcd(pow(a, r // 2) + 1, N)\n",
        "\n",
        "        if 1 < factor1 < N:\n",
        "            return factor1, N // factor1\n",
        "        if 1 < factor2 < N:\n",
        "            return factor2, N // factor2\n",
        "\n",
        "    return None, None\n",
        "\n",
        "# Step 5: Take input from user\n",
        "N = int(input(\"Enter a number to factor: \"))\n",
        "\n",
        "# Test the simplified Shor's algorithm\n",
        "f1, f2 = shors_algorithm(N)\n",
        "\n",
        "if f1 and f2:\n",
        "    print(f\"\\n✅ Success: Factors of {N} are {f1} × {f2}\")\n",
        "else:\n",
        "    print(f\"\\n❌ Failed to find non-trivial factors of {N}\")\n"
      ],
      "metadata": {
        "colab": {
          "base_uri": "https://localhost:8080/"
        },
        "id": "k-uVq_MpMN4i",
        "outputId": "854b2b10-7ba1-489c-ac48-576fe9609c32"
      },
      "execution_count": 2,
      "outputs": [
        {
          "output_type": "stream",
          "name": "stdout",
          "text": [
            "Enter a number to factor: 15\n",
            "Factoring N = 15\n",
            "\n",
            "Attempt #1: Trying a = 11\n",
            "Order r = 2\n",
            "\n",
            "✅ Success: Factors of 15 are 5 × 3\n"
          ]
        }
      ]
    }
  ]
}