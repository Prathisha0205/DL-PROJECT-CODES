{
  "nbformat": 4,
  "nbformat_minor": 0,
  "metadata": {
    "colab": {
      "provenance": [],
      "authorship_tag": "ABX9TyMwXYfXBZpePxGmpuRAJ8qs",
      "include_colab_link": true
    },
    "kernelspec": {
      "name": "python3",
      "display_name": "Python 3"
    },
    "language_info": {
      "name": "python"
    }
  },
  "cells": [
    {
      "cell_type": "markdown",
      "metadata": {
        "id": "view-in-github",
        "colab_type": "text"
      },
      "source": [
        "<a href=\"https://colab.research.google.com/github/Prathisha0205/DL-PROJECT-CODES/blob/main/Quantum_computing_miniproject.ipynb\" target=\"_parent\"><img src=\"https://colab.research.google.com/assets/colab-badge.svg\" alt=\"Open In Colab\"/></a>"
      ]
    },
    {
      "cell_type": "code",
      "execution_count": 1,
      "metadata": {
        "colab": {
          "base_uri": "https://localhost:8080/"
        },
        "id": "_vEaUCC2zBX_",
        "outputId": "f43e0e6e-903c-4870-86d5-3bff10876ea5"
      },
      "outputs": [
        {
          "output_type": "stream",
          "name": "stdout",
          "text": [
            "Total Grover iterations: 1\n",
            "\n",
            "Iteration 1\n",
            "After oracle: ['0.408', '0.408', '0.408', '-0.408', '0.408', '0.408']\n",
            "After diffusion: ['0.136', '0.136', '0.136', '0.953', '0.136', '0.136']\n",
            "\n",
            "Final amplitudes: ['0.136', '0.136', '0.136', '0.953', '0.136', '0.136']\n",
            "Measured index: 3\n",
            "Target value at index: delta\n",
            "✅ Target 'delta' found successfully!\n"
          ]
        }
      ],
      "source": [
        "import math\n",
        "import random\n",
        "\n",
        "def grover_simulation(data, target):\n",
        "    n = len(data)\n",
        "    marked_index = data.index(target)\n",
        "\n",
        "    # Step 1: Initialize uniform probability amplitudes\n",
        "    amplitudes = [1.0 / math.sqrt(n) for _ in range(n)]\n",
        "\n",
        "    # Step 2: Number of Grover iterations = floor(pi/4 * sqrt(N))\n",
        "    iterations = int(math.floor((math.pi / 4) * math.sqrt(n)))\n",
        "    print(\"Total Grover iterations:\", iterations)\n",
        "\n",
        "    for it in range(iterations):\n",
        "        print(\"\\nIteration\", it + 1)\n",
        "\n",
        "        # Step 3: Oracle - flip amplitude of target\n",
        "        amplitudes[marked_index] *= -1\n",
        "        print(\"After oracle:\", [\"%.3f\" % amp for amp in amplitudes])\n",
        "\n",
        "        # Step 4: Diffusion operator (inversion about the mean)\n",
        "        avg = sum(amplitudes) / n\n",
        "        amplitudes = [2 * avg - amp for amp in amplitudes]\n",
        "        print(\"After diffusion:\", [\"%.3f\" % amp for amp in amplitudes])\n",
        "\n",
        "    # Step 5: Measurement (find index with max amplitude)\n",
        "    measured_index = amplitudes.index(max(amplitudes))\n",
        "    print(\"\\nFinal amplitudes:\", [\"%.3f\" % amp for amp in amplitudes])\n",
        "    print(\"Measured index:\", measured_index)\n",
        "    print(\"Target value at index:\", data[measured_index])\n",
        "\n",
        "    if data[measured_index] == target:\n",
        "        print(\"✅ Target '%s' found successfully!\" % target)\n",
        "    else:\n",
        "        print(\"❌ Target '%s' not found.\" % target)\n",
        "\n",
        "# Example data\n",
        "data = ['alpha', 'beta', 'gamma', 'delta', 'epsilon', 'zeta']\n",
        "target = 'delta'\n",
        "\n",
        "grover_simulation(data, target)\n"
      ]
    }
  ]
}