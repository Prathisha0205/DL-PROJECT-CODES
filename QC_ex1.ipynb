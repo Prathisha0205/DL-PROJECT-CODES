{
  "nbformat": 4,
  "nbformat_minor": 0,
  "metadata": {
    "colab": {
      "provenance": [],
      "authorship_tag": "ABX9TyM7ivKzW/mq0L4qyolajrPI",
      "include_colab_link": true
    },
    "kernelspec": {
      "name": "python3",
      "display_name": "Python 3"
    },
    "language_info": {
      "name": "python"
    }
  },
  "cells": [
    {
      "cell_type": "markdown",
      "metadata": {
        "id": "view-in-github",
        "colab_type": "text"
      },
      "source": [
        "<a href=\"https://colab.research.google.com/github/Prathisha0205/DL-PROJECT-CODES/blob/main/QC_ex1.ipynb\" target=\"_parent\"><img src=\"https://colab.research.google.com/assets/colab-badge.svg\" alt=\"Open In Colab\"/></a>"
      ]
    },
    {
      "cell_type": "code",
      "execution_count": null,
      "metadata": {
        "colab": {
          "base_uri": "https://localhost:8080/"
        },
        "id": "HOVf4IK8Lvq6",
        "outputId": "2ca1d3f9-4d82-494b-dd67-20071333fd1d"
      },
      "outputs": [
        {
          "output_type": "stream",
          "name": "stdout",
          "text": [
            "Enter gate to apply (I, X, Y, Z, H, S, T): I\n",
            "\n",
            "Applying I gate...\n",
            " |4) = 1.00+0.00j |0) + 0.00+0.00j |1)\n"
          ]
        }
      ],
      "source": [
        "import numpy as np\n",
        "\n",
        "# Define basic single-qubit gates\n",
        "GATES = {\n",
        "    'I': np.array([[1, 0], [0, 1]]),  # Identity\n",
        "    'X': np.array([[0, 1], [1, 0]]),  # Pauli-X\n",
        "    'Y': np.array([[0, -1j], [1j, 0]]),  # Pauli-Y\n",
        "    'Z': np.array([[1, 0], [0, -1]]),  # Pauli-Z\n",
        "    'H': (1 / np.sqrt(2)) * np.array([[1, 1], [1, -1]]),  # Hadamard\n",
        "    'S': np.array([[1, 0], [0, 1j]]),  # Phase\n",
        "    'T': np.array([[1, 0], [0, np.exp(1j * np.pi / 4)]]),  # π/8 gate\n",
        "}\n",
        "\n",
        "# Function to apply gate\n",
        "def apply_gate(state, gate):\n",
        "    return np.dot(gate, state)\n",
        "\n",
        "# Function to display state\n",
        "def print_state(state):\n",
        "    print(f\" |4) = {state[0]:.2f} |0) + {state[1]:.2f} |1)\")\n",
        "\n",
        "# Initial qubit state |0)\n",
        "state = np.array([1, 0], dtype=complex)\n",
        "\n",
        "# User selects a gate\n",
        "gate_name = input(\"Enter gate to apply (I, X, Y, Z, H, S, T): \").upper()\n",
        "\n",
        "if gate_name in GATES:\n",
        "    gate = GATES[gate_name]\n",
        "    new_state = apply_gate(state, gate)\n",
        "    print(f\"\\nApplying {gate_name} gate...\")\n",
        "    print_state(new_state)  # Print the new state\n",
        "else:\n",
        "    print(\"Invalid gate name.\")"
      ]
    },
    {
      "cell_type": "markdown",
      "source": [],
      "metadata": {
        "id": "hGhWgxnURIGk"
      }
    },
    {
      "cell_type": "code",
      "source": [
        "import numpy as np\n",
        "\n",
        "# Define tensor (Kronecker) product function\n",
        "def tensor(*matrices):\n",
        "    result = matrices[0]\n",
        "    for m in matrices[1:]:  # Corrected loop\n",
        "        result = np.kron(result, m)\n",
        "    return result\n",
        "\n",
        "# Define basic single-qubit gates\n",
        "I = np.array([[1, 0], [0, 1]], dtype=complex)\n",
        "X = np.array([[0, 1], [1, 0]], dtype=complex)\n",
        "H = (1 / np.sqrt(2)) * np.array([[1, 1], [1, -1]], dtype=complex)\n",
        "\n",
        "# Define 2-qubit CNOT gate (control = qubit 0, target = qubit 1)\n",
        "CNOT = np.array([\n",
        "    [1, 0, 0, 0],  # |00) → |00)\n",
        "    [0, 1, 0, 0],  # |01) → |01)\n",
        "    [0, 0, 0, 1],  # |10) → |11)\n",
        "    [0, 0, 1, 0],  # |11) → |10)\n",
        "], dtype=complex)\n",
        "\n",
        "# Initial state |00) = [1, 0, 0, 0]\n",
        "state = np.array([1, 0, 0, 0], dtype=complex)\n",
        "print(\"Initial state: |00)\\n\")\n",
        "\n",
        "# Apply Hadamard to the first qubit\n",
        "H1 = tensor(H, I)  # H ⊗ I\n",
        "state = H1 @ state  # Corrected assignment\n",
        "print(\"After H on qubit 0:\")\n",
        "print(state, \"\\n\")\n",
        "\n",
        "# Apply CNOT\n",
        "state = CNOT @ state\n",
        "print(\"After CNOT (control=0, target=1):\")\n",
        "print(state)"
      ],
      "metadata": {
        "colab": {
          "base_uri": "https://localhost:8080/"
        },
        "id": "OVBkDRwzRe-k",
        "outputId": "2edd7835-a17b-4b6c-d2c3-f7a6e8180a17"
      },
      "execution_count": null,
      "outputs": [
        {
          "output_type": "stream",
          "name": "stdout",
          "text": [
            "Initial state: |00)\n",
            "\n",
            "After H on qubit 0:\n",
            "[0.70710678+0.j 0.        +0.j 0.70710678+0.j 0.        +0.j] \n",
            "\n",
            "After CNOT (control=0, target=1):\n",
            "[0.70710678+0.j 0.        +0.j 0.        +0.j 0.70710678+0.j]\n"
          ]
        }
      ]
    }
  ]
}